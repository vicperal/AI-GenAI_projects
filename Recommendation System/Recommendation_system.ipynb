import pandas as pd
import numpy as np
import matplotlib.pyplot as plt
import seaborn as sns
from scipy.sparse import csr_matrix
from sklearn.metrics.pairwise import cosine_similarity

pd.set_option('display.max_columns', 999)

# load ratings.csv in /content and create dataframe with name ratings_

ratings_ = pd.read_csv('/content/ratings.csv')

ratings_.describe()

ratings_.info()

# load movies.csv in /content and create dataframe with name movies_

movies_ = pd.read_csv('/content/movies.csv')
movies_.head()

movies_.info()

movies_.describe()


movies_ = movies_.rename(columns={'id': 'movieId'})

# merge ratings - movies

df = pd.merge(ratings_, movies_, on='movieId', how='left')
df.head()

# create a new df where first column is title and second column is the total users' average ratings 

# Group by movie title and calculate the mean rating
mean_ratings = df.groupby('title')['rating'].mean().reset_index()

# Create a new DataFrame with title and average rating
new_df = mean_ratings[['title', 'rating']]

# Rename the rating column for clarity
mean_ratings = new_df.rename(columns={'rating': 'average_rating'})

# Display the new DataFrame
print(mean_ratings.head())

mean_ratings = mean_ratings.sort_values(by='average_rating', ascending=False)
print(mean_ratings.head())

# generate a new df from  movies_ & ratings_ and calculate user_similarity matrix

# Combine ratings_ and movies_ DataFrames
df = pd.merge(ratings_, movies_, on='movieId')

# Create a pivot table with users as rows, movies as columns, and ratings as values
movie_user_matrix = df.pivot_table(index='userId', columns='title', values='rating')

# Fill NaN values with 0 (or another appropriate value if preferred)
movie_user_matrix = movie_user_matrix.fillna(0)

# Calculate the user similarity matrix using cosine similarity
matrix_user_similarity = cosine_similarity(movie_user_matrix)

# Convert the similarity matrix to a DataFrame for better readability
matrix_user_similarity = pd.DataFrame(matrix_user_similarity, index=movie_user_matrix.index, columns=movie_user_matrix.index)

print(matrix_user_similarity.head())

matrix_user_similarity.describe().T

matrix_user_similarity.head().T

#create the item_similirity_matrix 

# Transpose the user-item matrix to get the item-user matrix
item_user_matrix = movie_user_matrix.T

# Calculate the item similarity matrix using cosine similarity
item_similarity_matrix = cosine_similarity(item_user_matrix)

# Convert the similarity matrix to a DataFrame for better readability
item_similarity_matrix = pd.DataFrame(item_similarity_matrix, index=item_user_matrix.index, columns=item_user_matrix.index)

print(item_similarity_matrix.head())
item_similarity_matrix.describe().T
item_similarity_matrix.head().T

# Function: given a movie title returns a list with the 10 most similar movies

def recomendar_peliculas_similares(titulo_pelicula):
  """
  Esta función toma el título de una película y devuelve una lista
  de las 10 películas más similares basándose en la similitud del coseno.

  Args:
    titulo_pelicula: El título de la película para la cual se quieren encontrar películas similares.

  Returns:
    Una lista de los títulos de las 10 películas más similares.
  """
  try:
    # Obtener la fila de similitud para la película dada
    similitudes_pelicula = item_similarity_matrix[titulo_pelicula]

    # Ordenar las similitudes de forma descendente
    similitudes_ordenadas = similitudes_pelicula.sort_values(ascending=False)

    # Excluir la propia película de la lista
    peliculas_similares = similitudes_ordenadas[1:]

    # Devolver los títulos de las 10 películas más similares
    return peliculas_similares.head(10).index.tolist()

  except KeyError:
    return f"La película '{titulo_pelicula}' no se encontró en la base de datos."


titulo = "Toy Story (1995)"
recomendaciones = recomendar_peliculas_similares(titulo)
print(f"Las 10 películas más similares a '{titulo}' son:")
for peli in recomendaciones:
   print(peli)

# prompt: corrige lo anterior para mostrar el texto en un formato correcto, horizontal

print(matrix_user_similarity.head().to_string())
print(matrix_user_similarity.describe().T.to_string())
print(matrix_user_similarity.head().T.to_string())

print(item_similarity_matrix.head().to_string())
print(item_similarity_matrix.describe().T.to_string())
print(item_similarity_matrix.head().T.to_string())

def recomendar_peliculas_similares(titulo_pelicula):
  """
  Esta función toma el título de una película y devuelve una lista
  de las 10 películas más similares basándose en la similitud del coseno.

  Args:
    titulo_pelicula: El título de la película para la cual se quieren encontrar películas similares.

  Returns:
    Una lista de los títulos de las 10 películas más similares.
  """
  try:
    # Obtener la fila de similitud para la película dada
    similitudes_pelicula = item_similarity_matrix[titulo_pelicula]

    # Ordenar las similitudes de forma descendente
    similitudes_ordenadas = similitudes_pelicula.sort_values(ascending=False)

    # Excluir la propia película de la lista
    peliculas_similares = similitudes_ordenadas[1:]

    # Devolver los títulos de las 10 películas más similares
    return peliculas_similares.head(10).index.tolist()

  except KeyError:
    return f"La película '{titulo_pelicula}' no se encontró en la base de datos."

title = "Zodiac"
recomendaciones = recomendar_peliculas_similares(titulo)
print(f"List of the 10 more similar movies to '{title}':")
for peli in recomendaciones:
   print(peli)
